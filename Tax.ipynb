{
 "cells": [
  {
   "cell_type": "code",
   "execution_count": 1,
   "metadata": {},
   "outputs": [],
   "source": [
    "from langchain.document_loaders.parsers.pdf import PDFPlumberParser\n",
    "from langchain.document_loaders import Blob\n",
    "from langchain.document_loaders import PyPDFLoader"
   ]
  },
  {
   "cell_type": "code",
   "execution_count": 46,
   "metadata": {},
   "outputs": [
    {
     "name": "stdout",
     "output_type": "stream",
     "text": [
      "page_content='\n",
      "' metadata={'source': 'sample.pdf', 'file_path': 'sample.pdf', 'page': 0, 'total_pages': 1, 'Producer': 'Adobe XD'}\n"
     ]
    }
   ],
   "source": [
    "from langchain.document_loaders import Blob\n",
    "from langchain.document_loaders.parsers.pdf import PDFPlumberParser\n",
    "\n",
    "# Create a Blob object for the PDF document\n",
    "blob = Blob.from_path(\"page 1.pdf\")\n",
    "\n",
    "# Create a PDFPlumberParser object\n",
    "parser = PDFPlumberParser()\n",
    "\n",
    "# Use the lazy_parse method to parse the PDF document\n",
    "\n",
    "docs = parser.lazy_parse(blob)\n",
    "for i in docs:\n",
    "    print(i)"
   ]
  },
  {
   "cell_type": "code",
   "execution_count": 5,
   "metadata": {},
   "outputs": [],
   "source": [
    "loader = PyPDFLoader('page 1.pdf')\n",
    "\n",
    "#split the document into chunks\n",
    "pages = loader.load_and_split()"
   ]
  },
  {
   "cell_type": "code",
   "execution_count": 6,
   "metadata": {},
   "outputs": [
    {
     "name": "stdout",
     "output_type": "stream",
     "text": [
      "Requirement already satisfied: tabula-py in c:\\users\\kushaagra mehta\\anaconda3\\envs\\torch_env\\lib\\site-packages (2.9.3)\n",
      "Requirement already satisfied: pandas>=0.25.3 in c:\\users\\kushaagra mehta\\anaconda3\\envs\\torch_env\\lib\\site-packages (from tabula-py) (1.5.3)\n",
      "Requirement already satisfied: numpy in c:\\users\\kushaagra mehta\\anaconda3\\envs\\torch_env\\lib\\site-packages (from tabula-py) (1.26.4)\n",
      "Requirement already satisfied: distro in c:\\users\\kushaagra mehta\\anaconda3\\envs\\torch_env\\lib\\site-packages (from tabula-py) (1.9.0)\n",
      "Requirement already satisfied: python-dateutil>=2.8.1 in c:\\users\\kushaagra mehta\\anaconda3\\envs\\torch_env\\lib\\site-packages (from pandas>=0.25.3->tabula-py) (2.9.0.post0)\n",
      "Requirement already satisfied: pytz>=2020.1 in c:\\users\\kushaagra mehta\\anaconda3\\envs\\torch_env\\lib\\site-packages (from pandas>=0.25.3->tabula-py) (2024.1)\n",
      "Requirement already satisfied: six>=1.5 in c:\\users\\kushaagra mehta\\anaconda3\\envs\\torch_env\\lib\\site-packages (from python-dateutil>=2.8.1->pandas>=0.25.3->tabula-py) (1.16.0)\n",
      "Collecting jpype\n",
      "  Using cached jpype-0.0.tar.gz (541 bytes)\n",
      "  Preparing metadata (setup.py): started\n",
      "  Preparing metadata (setup.py): finished with status 'error'\n"
     ]
    },
    {
     "name": "stderr",
     "output_type": "stream",
     "text": [
      "  error: subprocess-exited-with-error\n",
      "  \n",
      "  python setup.py egg_info did not run successfully.\n",
      "  exit code: 1\n",
      "  \n",
      "  [8 lines of output]\n",
      "  \n",
      "  =========================================\n",
      "  \n",
      "  Please install the `JPype` with ``pip install jpype1``\n",
      "  \n",
      "  =========================================\n",
      "  \n",
      "  \n",
      "  [end of output]\n",
      "  \n",
      "  note: This error originates from a subprocess, and is likely not a problem with pip.\n",
      "error: metadata-generation-failed\n",
      "\n",
      "Encountered error while generating package metadata.\n",
      "\n",
      "See above for output.\n",
      "\n",
      "note: This is an issue with the package mentioned above, not pip.\n",
      "hint: See above for details.\n"
     ]
    }
   ],
   "source": [
    "!pip install tabula-py\n",
    "!pip install jpype"
   ]
  },
  {
   "cell_type": "markdown",
   "metadata": {},
   "source": [
    "# ------------------ Tabula ----------------------------------"
   ]
  },
  {
   "cell_type": "markdown",
   "metadata": {},
   "source": [
    "# ------------------ Tabula ----------------------------------"
   ]
  },
  {
   "cell_type": "markdown",
   "metadata": {},
   "source": [
    "# ------------------ Tabula ----------------------------------"
   ]
  },
  {
   "cell_type": "code",
   "execution_count": 93,
   "metadata": {
    "scrolled": true
   },
   "outputs": [],
   "source": [
    "from tabula.io import read_pdf\n",
    "\n",
    "tab = read_pdf('page 1.pdf', pages='all')\n",
    "# for t in tab:\n",
    "#     print(t, \"\\n=========================\\n\")\n",
    "df = tab[0]"
   ]
  },
  {
   "cell_type": "code",
   "execution_count": 94,
   "metadata": {},
   "outputs": [
    {
     "data": {
      "text/plain": [
       "2"
      ]
     },
     "execution_count": 94,
     "metadata": {},
     "output_type": "execute_result"
    }
   ],
   "source": [
    "len(tab)"
   ]
  },
  {
   "cell_type": "code",
   "execution_count": 43,
   "metadata": {},
   "outputs": [
    {
     "data": {
      "text/plain": [
       "Index(['Details of Salary Paid and any other income and tax deducted',\n",
       "       'Unnamed: 0', 'Unnamed: 1', 'Unnamed: 2', 'Unnamed: 3'],\n",
       "      dtype='object')"
      ]
     },
     "execution_count": 43,
     "metadata": {},
     "output_type": "execute_result"
    }
   ],
   "source": [
    "df.columns"
   ]
  },
  {
   "cell_type": "code",
   "execution_count": 44,
   "metadata": {},
   "outputs": [],
   "source": [
    "# df.drop(columns=['Details of Salary Paid and any other income and tax deducted'], inplace=True)"
   ]
  },
  {
   "cell_type": "code",
   "execution_count": 53,
   "metadata": {},
   "outputs": [],
   "source": [
    "import numpy as np\n",
    "df = df.replace(np.nan, 0)\n"
   ]
  },
  {
   "cell_type": "code",
   "execution_count": 54,
   "metadata": {},
   "outputs": [
    {
     "data": {
      "text/html": [
       "<div>\n",
       "<style scoped>\n",
       "    .dataframe tbody tr th:only-of-type {\n",
       "        vertical-align: middle;\n",
       "    }\n",
       "\n",
       "    .dataframe tbody tr th {\n",
       "        vertical-align: top;\n",
       "    }\n",
       "\n",
       "    .dataframe thead th {\n",
       "        text-align: right;\n",
       "    }\n",
       "</style>\n",
       "<table border=\"1\" class=\"dataframe\">\n",
       "  <thead>\n",
       "    <tr style=\"text-align: right;\">\n",
       "      <th></th>\n",
       "      <th>Details of Salary Paid and any other income and tax deducted</th>\n",
       "      <th>Unnamed: 0</th>\n",
       "      <th>Unnamed: 1</th>\n",
       "      <th>Unnamed: 2</th>\n",
       "      <th>Unnamed: 3</th>\n",
       "    </tr>\n",
       "  </thead>\n",
       "  <tbody>\n",
       "    <tr>\n",
       "      <th>0</th>\n",
       "      <td>1.</td>\n",
       "      <td>Gross Salary</td>\n",
       "      <td>0</td>\n",
       "      <td>0</td>\n",
       "      <td>0</td>\n",
       "    </tr>\n",
       "    <tr>\n",
       "      <th>1</th>\n",
       "      <td>(a)</td>\n",
       "      <td>Salary as per provisions contained in section ...</td>\n",
       "      <td>0</td>\n",
       "      <td>Rs. 1000</td>\n",
       "      <td>0</td>\n",
       "    </tr>\n",
       "    <tr>\n",
       "      <th>2</th>\n",
       "      <td>(b)</td>\n",
       "      <td>Value of perquisites under section 17(2) (as p...</td>\n",
       "      <td>0</td>\n",
       "      <td>Rs. 5000</td>\n",
       "      <td>0</td>\n",
       "    </tr>\n",
       "    <tr>\n",
       "      <th>3</th>\n",
       "      <td>(c)</td>\n",
       "      <td>Profits in lieu of salary under section 17(3) ...</td>\n",
       "      <td>0</td>\n",
       "      <td>Rs. 9000</td>\n",
       "      <td>0</td>\n",
       "    </tr>\n",
       "    <tr>\n",
       "      <th>4</th>\n",
       "      <td>(d)</td>\n",
       "      <td>Total</td>\n",
       "      <td>0</td>\n",
       "      <td>0</td>\n",
       "      <td>Rs. 4000</td>\n",
       "    </tr>\n",
       "  </tbody>\n",
       "</table>\n",
       "</div>"
      ],
      "text/plain": [
       "  Details of Salary Paid and any other income and tax deducted  \\\n",
       "0                                                 1.             \n",
       "1                                                (a)             \n",
       "2                                                (b)             \n",
       "3                                                (c)             \n",
       "4                                                (d)             \n",
       "\n",
       "                                          Unnamed: 0 Unnamed: 1 Unnamed: 2  \\\n",
       "0                                       Gross Salary          0          0   \n",
       "1  Salary as per provisions contained in section ...          0   Rs. 1000   \n",
       "2  Value of perquisites under section 17(2) (as p...          0   Rs. 5000   \n",
       "3  Profits in lieu of salary under section 17(3) ...          0   Rs. 9000   \n",
       "4                                              Total          0          0   \n",
       "\n",
       "  Unnamed: 3  \n",
       "0          0  \n",
       "1          0  \n",
       "2          0  \n",
       "3          0  \n",
       "4   Rs. 4000  "
      ]
     },
     "execution_count": 54,
     "metadata": {},
     "output_type": "execute_result"
    }
   ],
   "source": [
    "df.head()"
   ]
  },
  {
   "cell_type": "code",
   "execution_count": 79,
   "metadata": {},
   "outputs": [
    {
     "data": {
      "text/html": [
       "<div>\n",
       "<style scoped>\n",
       "    .dataframe tbody tr th:only-of-type {\n",
       "        vertical-align: middle;\n",
       "    }\n",
       "\n",
       "    .dataframe tbody tr th {\n",
       "        vertical-align: top;\n",
       "    }\n",
       "\n",
       "    .dataframe thead th {\n",
       "        text-align: right;\n",
       "    }\n",
       "</style>\n",
       "<table border=\"1\" class=\"dataframe\">\n",
       "  <thead>\n",
       "    <tr style=\"text-align: right;\">\n",
       "      <th></th>\n",
       "      <th>Details of Salary Paid and any other income and tax deducted</th>\n",
       "      <th>Unnamed: 0</th>\n",
       "      <th>Unnamed: 1</th>\n",
       "      <th>Unnamed: 2</th>\n",
       "      <th>Unnamed: 3</th>\n",
       "    </tr>\n",
       "  </thead>\n",
       "  <tbody>\n",
       "    <tr>\n",
       "      <th>22</th>\n",
       "      <td>4.</td>\n",
       "      <td>Less: Deductions under section 16</td>\n",
       "      <td>0</td>\n",
       "      <td>0</td>\n",
       "      <td>0</td>\n",
       "    </tr>\n",
       "    <tr>\n",
       "      <th>23</th>\n",
       "      <td>(a)</td>\n",
       "      <td>Standard deduction under section 16(ia)</td>\n",
       "      <td>0</td>\n",
       "      <td>Rs. 346</td>\n",
       "      <td>0</td>\n",
       "    </tr>\n",
       "    <tr>\n",
       "      <th>24</th>\n",
       "      <td>(b)</td>\n",
       "      <td>Entertainment allowance under section 16(ii)</td>\n",
       "      <td>0</td>\n",
       "      <td>Rs. 3453</td>\n",
       "      <td>0</td>\n",
       "    </tr>\n",
       "    <tr>\n",
       "      <th>25</th>\n",
       "      <td>(c)</td>\n",
       "      <td>Tax on employment under section 16(iii)</td>\n",
       "      <td>0</td>\n",
       "      <td>Rs. 3631</td>\n",
       "      <td>0</td>\n",
       "    </tr>\n",
       "  </tbody>\n",
       "</table>\n",
       "</div>"
      ],
      "text/plain": [
       "   Details of Salary Paid and any other income and tax deducted  \\\n",
       "22                                                 4.             \n",
       "23                                                (a)             \n",
       "24                                                (b)             \n",
       "25                                                (c)             \n",
       "\n",
       "                                      Unnamed: 0 Unnamed: 1 Unnamed: 2  \\\n",
       "22             Less: Deductions under section 16          0          0   \n",
       "23       Standard deduction under section 16(ia)          0    Rs. 346   \n",
       "24  Entertainment allowance under section 16(ii)          0   Rs. 3453   \n",
       "25       Tax on employment under section 16(iii)          0   Rs. 3631   \n",
       "\n",
       "   Unnamed: 3  \n",
       "22          0  \n",
       "23          0  \n",
       "24          0  \n",
       "25          0  "
      ]
     },
     "execution_count": 79,
     "metadata": {},
     "output_type": "execute_result"
    }
   ],
   "source": [
    "df.iloc[22:30]"
   ]
  },
  {
   "cell_type": "code",
   "execution_count": 76,
   "metadata": {},
   "outputs": [],
   "source": [
    "# dropped_df = df.drop(columns=['Details of Salary Paid and any other income and tax deducted'])\n",
    "# dropped_df.head()"
   ]
  },
  {
   "cell_type": "code",
   "execution_count": 77,
   "metadata": {},
   "outputs": [],
   "source": [
    "# sentences\n",
    "sentences = []"
   ]
  },
  {
   "cell_type": "code",
   "execution_count": 78,
   "metadata": {},
   "outputs": [],
   "source": [
    "indices =[(0,6),(6,21), (21,22), (22,23), (), ()]\n",
    "# describe = set([1,2])"
   ]
  },
  {
   "cell_type": "code",
   "execution_count": 63,
   "metadata": {},
   "outputs": [],
   "source": [
    "def make_str(arr):\n",
    "    sentences.append(\" \".join(arr))\n",
    "def subset_making(start,stop):\n",
    "    subset_array =( df.iloc[start:stop].to_numpy()).flatten()\n",
    "    subset_array = [str(element) for element in subset_array if element != 0]\n",
    "    make_str(subset_array)\n",
    "\n",
    "\n",
    "\n",
    "\n",
    "\n",
    "    "
   ]
  },
  {
   "cell_type": "code",
   "execution_count": 74,
   "metadata": {},
   "outputs": [],
   "source": [
    "for j in range(len(indices)):\n",
    "    subset_making(indices[j][0],indices[j][1])"
   ]
  },
  {
   "cell_type": "code",
   "execution_count": 75,
   "metadata": {},
   "outputs": [
    {
     "data": {
      "text/plain": [
       "['1. Gross Salary (a) Salary as per provisions contained in section 17(1) Rs. 1000 (b) Value of perquisites under section 17(2) (as per Form\\rNo. 12BA, wherever applicable) Rs. 5000 (c) Profits in lieu of salary under section 17(3) (as per\\rForm No. 12BA, wherever applicable) Rs. 9000 (d) Total Rs. 4000 (e) Reported total amount of salary received from other\\remployer(s) Rs. 6000',\n",
       " '2. Less: Allowances to the extent exempt under section 10 (a) Travel concession or assistance under section 10(5) Rs. 500 (b) Death-cum-retirement gratuity under section 10(10) Rs. 800 (c) Commuted value of pension under section 10(10A) Rs. 900 (d) Cash equivalent of leave salary encashment under\\rsection 10(10AA) Rs. 20000 (e) House rent allowance under section 10(13A) Rs. 5000 (f) Amount of any other exemption under section 10 clause test1 Rs. 1234 Clause test2 Rs. 5678 Clause test 3 Rs. 234 clause test4 Rs. 978 clause tes5 Rs. 234 Another caluse Rs. 635 (g) Total amount of any other exemption under section 10 Rs. 3243 (h) Total amount of exemption claimed under section 10\\r[2(a)+2(b)+2(c)+2(d)+2(e)+2(g)] Rs. 5321',\n",
       " '3. Total amount of salary received from current employer\\r[1(d)-2(h)] Rs. 234',\n",
       " '4. Less: Deductions under section 16']"
      ]
     },
     "execution_count": 75,
     "metadata": {},
     "output_type": "execute_result"
    }
   ],
   "source": [
    "sentences"
   ]
  },
  {
   "cell_type": "code",
   "execution_count": 39,
   "metadata": {},
   "outputs": [],
   "source": [
    "result_parts = []\n",
    "\n",
    "# for i, element in enumerate(subset_array):\n",
    "#     result_parts.append(element)\n",
    "#     if (i + 1) % 2 == 0 and i + 1 < len(subset_array):\n",
    "#         result_parts.append(\"is\")\n",
    "result_string = ' '.join(result_parts)\n",
    "sentences.append(result_string)"
   ]
  },
  {
   "cell_type": "code",
   "execution_count": 40,
   "metadata": {},
   "outputs": [
    {
     "data": {
      "text/plain": [
       "['Gross Salary Salary as per provisions contained in section 17(1) is Rs. 1000 Value of perquisites under section 17(2) (as per Form\\rNo. 12BA, wherever applicable) is Rs. 5000 Profits in lieu of salary under section 17(3) (as per\\rForm No. 12BA, wherever applicable) is Rs. 9000 Total is Rs. 4000 Reported total amount of salary received from other\\remployer(s) is Rs. 6000']"
      ]
     },
     "execution_count": 40,
     "metadata": {},
     "output_type": "execute_result"
    }
   ],
   "source": [
    "sentences"
   ]
  },
  {
   "cell_type": "code",
   "execution_count": 11,
   "metadata": {},
   "outputs": [
    {
     "data": {
      "text/plain": [
       "Details of Salary Paid and any other income and tax deducted    object\n",
       "Unnamed: 0                                                      object\n",
       "Unnamed: 1                                                      object\n",
       "Unnamed: 2                                                      object\n",
       "Unnamed: 3                                                      object\n",
       "dtype: object"
      ]
     },
     "execution_count": 11,
     "metadata": {},
     "output_type": "execute_result"
    }
   ],
   "source": [
    "# df = df.columns.str.replace(' ', '')\n",
    "df.dtypes"
   ]
  },
  {
   "cell_type": "code",
   "execution_count": 48,
   "metadata": {},
   "outputs": [],
   "source": [
    "# from pandasai import SmartDataframe\n",
    "# from pandasai.llm.local_llm import LocalLLM\n",
    "# import pandas as pd\n",
    "# from pandasai.connectors import PostgreSQLConnector\n"
   ]
  },
  {
   "cell_type": "code",
   "execution_count": 49,
   "metadata": {},
   "outputs": [],
   "source": [
    "# ollama_llm = LocalLLM(api_base=\"http://localhost:11434\", model=\"gemma2:2b\")\n"
   ]
  },
  {
   "cell_type": "code",
   "execution_count": 50,
   "metadata": {},
   "outputs": [],
   "source": [
    "# smdf = SmartDataframe(df, config={\"llm\": ollama_llm})\n"
   ]
  },
  {
   "cell_type": "code",
   "execution_count": 28,
   "metadata": {},
   "outputs": [],
   "source": [
    "# response = smdf.chat('What is unnamed 2 of Profits in lieu of salary')\n"
   ]
  },
  {
   "cell_type": "markdown",
   "metadata": {},
   "source": [
    "# -----------------Trying from direct loading--------------------\n"
   ]
  },
  {
   "cell_type": "code",
   "execution_count": 2,
   "metadata": {},
   "outputs": [],
   "source": [
    "import os, dotenv\n",
    "dotenv.load_dotenv()\n",
    "os.environ['OPENAI_API_KEY'] = os.getenv('OPENAI_API_KEY')\n",
    "os.environ['LANGCHAIN_API_KEY'] = os.getenv('LANGCHAIN_API_KEY')\n",
    "os.environ['LANGCHAIN_PROJECT'] = os.getenv('LANGCHAIN_PROJECT')"
   ]
  },
  {
   "cell_type": "code",
   "execution_count": 3,
   "metadata": {},
   "outputs": [],
   "source": [
    "from langchain_core.documents import Document\n",
    "from langchain_text_splitters import RecursiveCharacterTextSplitter\n",
    "from langchain_community.vectorstores import FAISS\n",
    "from langchain_community.embeddings import OllamaEmbeddings\n",
    "from langchain_core.prompts import PromptTemplate\n",
    "from langchain.chains import create_retrieval_chain\n",
    "from langchain.chains.combine_documents import create_stuff_documents_chain\n"
   ]
  },
  {
   "cell_type": "code",
   "execution_count": 4,
   "metadata": {},
   "outputs": [],
   "source": [
    "import numpy as np"
   ]
  },
  {
   "cell_type": "code",
   "execution_count": 18,
   "metadata": {},
   "outputs": [],
   "source": [
    "from tabula.io import read_pdf\n",
    "\n",
    "tab = read_pdf('form.pdf', pages='all')\n",
    "# for t in tab:\n",
    "#     print(t, \"\\n=========================\\n\")\n",
    "# df = tab[2]"
   ]
  },
  {
   "cell_type": "code",
   "execution_count": 37,
   "metadata": {},
   "outputs": [
    {
     "name": "stdout",
     "output_type": "stream",
     "text": [
      "['Details of Salary Paid and any other income and tax deducted'\n",
      " 'Unnamed: 0' 'Unnamed: 1' 'Unnamed: 2' 'Unnamed: 3']\n",
      "['2. Substituted by Income-tax (3rd Amendment) Rules, 2019, w.e.f. 12-5-2019. Prior to its\\rsubstitution part B read as under :\\r\\r(Contd. on next page']\n",
      "['5.' 'Total amount of deductions under section 16\\r[4(a)+4(b)+4(c)]'\n",
      " 'Unnamed: 0' 'Unnamed: 1' 'Unnamed: 2' 'Rs. 1000']\n",
      "['Unnamed: 0' 'Gross\\rAmount' 'Deductibl\\re Amount' 'Unnamed: 1'\n",
      " 'Unnamed: 2']\n",
      "['(k) Amount deductible under any other provision(s) of Chapter VI-A']\n",
      "===\n",
      "['Details of Salary Paid and any other income and tax deducted']\n",
      "['2. Substituted by Income-tax (3rd Amendment) Rules, 2019, w.e.f. 12-5-2019. Prior to its\\rsubstitution part B read as under :\\r\\r(Contd. on next page']\n",
      "['5.', 'Total amount of deductions under section 16\\r[4(a)+4(b)+4(c)]', 'Rs. 1000']\n",
      "['Gross\\rAmount', 'Deductibl\\re Amount']\n",
      "['(k) Amount deductible under any other provision(s) of Chapter VI-A']\n"
     ]
    }
   ],
   "source": [
    "# tab[2].to_numpy()\n",
    "# tab[2]\n",
    "for i in range(len(tab)):\n",
    "    print(tab[i].columns.to_numpy())\n",
    "print(\"===\")\n",
    "for i in range(len(tab)):\n",
    "    column_names = tab[i].columns.to_numpy()\n",
    "    column_names = [str(element) for element in tab[i] if (element != 'Unnamed: 0' and element != 'Unnamed: 1' and element != 'Unnamed: 2' and element != 'Unnamed: 3')]\n",
    "    print(column_names)"
   ]
  },
  {
   "cell_type": "code",
   "execution_count": 7,
   "metadata": {},
   "outputs": [],
   "source": [
    "embeddings = OllamaEmbeddings(model=\"gemma2:2b\")"
   ]
  },
  {
   "cell_type": "code",
   "execution_count": 39,
   "metadata": {},
   "outputs": [],
   "source": [
    "text= []\n",
    "for df in tab:\n",
    "    df = df.replace(np.nan, 0)\n",
    "    result = ''\n",
    "    column_names = df.columns.to_numpy()\n",
    "    column_names = [str(element) for element in df if (element != 'Unnamed: 0' and element != 'Unnamed: 1' and element != 'Unnamed: 2' and element != 'Unnamed: 3')]\n",
    "    res = ' is '.join(column_names)\n",
    "    result +=res\n",
    "    df = (df.to_numpy()).flatten()\n",
    "    \n",
    "    filtered_elements = [str(element) for element in df if element != 0]\n",
    "    res = ' is '.join(filtered_elements)\n",
    "    result+=res\n",
    "    text.append(result)"
   ]
  },
  {
   "cell_type": "code",
   "execution_count": 40,
   "metadata": {},
   "outputs": [
    {
     "data": {
      "text/plain": [
       "['Details of Salary Paid and any other income and tax deducted1. is Gross Salary is (a) is Salary as per provisions contained in section 17(1) is Rs. 1000 is (b) is Value of perquisites under section 17(2) (as per Form\\rNo. 12BA, wherever applicable) is Rs. 5000 is (c) is Profits in lieu of salary under section 17(3) (as per\\rForm No. 12BA, wherever applicable) is Rs. 9000 is (d) is Total is Rs. 4000 is (e) is Reported total amount of salary received from other\\remployer(s) is Rs. 6000 is 2. is Less: Allowances to the extent exempt under section 10 is (a) is Travel concession or assistance under section 10(5) is Rs. 500 is (b) is Death-cum-retirement gratuity under section 10(10) is Rs. 800 is (c) is Commuted value of pension under section 10(10A) is Rs. 900 is (d) is Cash equivalent of leave salary encashment under\\rsection 10(10AA) is Rs. 20000 is (e) is House rent allowance under section 10(13A) is Rs. 5000 is (f) is Amount of any other exemption under section 10 is clause test1 is Rs. 1234 is Clause test2 is Rs. 5678 is Clause test 3 is Rs. 234 is clause test4 is Rs. 978 is clause tes5 is Rs. 234 is Another caluse is Rs. 635 is (g) is Total amount of any other exemption under section 10 is Rs. 3243 is (h) is Total amount of exemption claimed under section 10\\r[2(a)+2(b)+2(c)+2(d)+2(e)+2(g)] is Rs. 5321 is 3. is Total amount of salary received from current employer\\r[1(d)-2(h)] is Rs. 234 is 4. is Less: Deductions under section 16 is (a) is Standard deduction under section 16(ia) is Rs. 346 is (b) is Entertainment allowance under section 16(ii) is Rs. 3453 is (c) is Tax on employment under section 16(iii) is Rs. 3631',\n",
       " '2. Substituted by Income-tax (3rd Amendment) Rules, 2019, w.e.f. 12-5-2019. Prior to its\\rsubstitution part B read as under :\\r\\r(Contd. on next page',\n",
       " '5. is Total amount of deductions under section 16\\r[4(a)+4(b)+4(c)] is Rs. 10006. is Income chargeable under the head \"Salaries\"\\r[(3+1(e)-5] is Rs. 8000 is 7. is Add: Any other income reported by the employee under as per section 192 (2B) is (a) is Income (or admissible loss) from house property\\rreported by employee offered for TDS is Rs. 3289 is (b) is Income under the head Other Sources offered for TDS is Rs. 42342 is 8. is Total amount of other income reported by the employee\\r[7(a)+7(b)] is Rs.4654 is 9. is Gross total income (6+8) is Rs. 987 is 10. is Deductions under Chapter VI-A',\n",
       " 'Gross\\rAmount is Deductibl\\re Amount(a) is Deduction in respect of life insurance premia,\\rcontributions to provident fund etc. under section 80C is Rs. 2334 is (b) is Deduction in respect of contribution to certain pension\\rfunds under section 80CCC is Rs. 3512 is (c) is Deduction in respect of contribution by taxpayer to\\rpension scheme under section 80CCD (1) is Rs. 3452 is (d) is Total deduction under section 80C, 80CCC and\\r80CCD(1) is Rs. 5266 is (e) is Deductions in respect of amount paid/deposited to\\rnotified pension scheme under section 80CCD (1B) is Rs. 7897 is (f) is Deduction in respect of contribution by Employer to\\rpension scheme under section 80CCD (2) is Rs. 9864 is (g) is Deduction in respect of health insurance premia under\\rsection 80D is Rs. 8798 is (h) is Deduction in respect of interest on loan taken for\\rhigher education under section 80E is Rs. 6789 is Gross\\rAmount is Qualifyin\\rg Amount is Deductibl\\re Amount is (i) is Total Deduction in respect of donations to certain\\rfunds, charitable institutions, etc. under section 80G is Rs. 3464 is (j) is Deduction in respect of interest on deposits in savings\\raccount under section 80TTA is Rs. 2356',\n",
       " '(k) Amount deductible under any other provision(s) of Chapter VI-Asection abc Rs. 235 is Section efg Rs. 142 is Section hik Rs. 5236 is Section lmn Rs. 3463 is section pqr Rs. 8729 is Section xyz Rs. 930 is ... Rs. 900 is (l) Total of amount deductible under any other Rs. 9089 is provision(s) of Chapter VI-A is 11. Aggregate of deductible amount under Chapter VI-A is [10(a)+10(b)+10(c)+10(d)+10(e)+10(f)+10(g)+ is 10(h)+10(i) 10(j)+10(l)] is 12. Total taxable income (9-11) is 13. Tax on total income is 14. Rebate under section 87A, if applicable is 15. Surcharge, wherever applicable is 16. Health and education cess is 17. Tax payable (13+15+16-14) is 18. Less: Relief under section 89 (attach details) is 19. Net tax payable (17-18) is Verification is I, ..................................., son/daughter of ...................................................... working in the is capacity of ........................................... (designation) do hereby certify that the information given is above is true, complete and correct and is based on the books of account, documents, TDS is statements, and other available records. is Place.............................. (Signature of person responsible is for deduction of tax) is Date.............................. Full Name : ...........................']"
      ]
     },
     "execution_count": 40,
     "metadata": {},
     "output_type": "execute_result"
    }
   ],
   "source": [
    "text"
   ]
  },
  {
   "cell_type": "code",
   "execution_count": 41,
   "metadata": {},
   "outputs": [],
   "source": [
    "documents = [Document(page_content=i) for i in text]"
   ]
  },
  {
   "cell_type": "code",
   "execution_count": 10,
   "metadata": {},
   "outputs": [],
   "source": [
    "splitter = RecursiveCharacterTextSplitter(chunk_size=250, chunk_overlap=50)"
   ]
  },
  {
   "cell_type": "code",
   "execution_count": 70,
   "metadata": {},
   "outputs": [],
   "source": [
    "docs =splitter.split_documents(documents)"
   ]
  },
  {
   "cell_type": "code",
   "execution_count": 71,
   "metadata": {},
   "outputs": [
    {
     "data": {
      "text/plain": [
       "[Document(page_content='1. is Gross Salary is (a) is Salary as per provisions contained in section 17(1) is Rs. 1000 is (b) is Value of perquisites under section 17(2) (as per Form\\rNo. 12BA, wherever applicable) is Rs. 5000 is (c) is Profits in lieu of salary under section'),\n",
       " Document(page_content='is (c) is Profits in lieu of salary under section 17(3) (as per\\rForm No. 12BA, wherever applicable) is Rs. 9000 is (d) is Total is Rs. 4000 is (e) is Reported total amount of salary received from other\\remployer(s) is Rs. 6000 is 2. is Less:'),\n",
       " Document(page_content='from other\\remployer(s) is Rs. 6000 is 2. is Less: Allowances to the extent exempt under section 10 is (a) is Travel concession or assistance under section 10(5) is Rs. 500 is (b) is Death-cum-retirement gratuity under section 10(10) is Rs. 800 is'),\n",
       " Document(page_content='gratuity under section 10(10) is Rs. 800 is (c) is Commuted value of pension under section 10(10A) is Rs. 900 is (d) is Cash equivalent of leave salary encashment under\\rsection 10(10AA) is Rs. 20000 is (e) is House rent allowance under section'),\n",
       " Document(page_content='is (e) is House rent allowance under section 10(13A) is Rs. 5000 is (f) is Amount of any other exemption under section 10 is clause test1 is Rs. 1234 is Clause test2 is Rs. 5678 is Clause test 3 is Rs. 234 is clause test4 is Rs. 978 is clause tes5'),\n",
       " Document(page_content='Rs. 234 is clause test4 is Rs. 978 is clause tes5 is Rs. 234 is Another caluse is Rs. 635 is (g) is Total amount of any other exemption under section 10 is Rs. 3243 is (h) is Total amount of exemption claimed under section'),\n",
       " Document(page_content='Total amount of exemption claimed under section 10\\r[2(a)+2(b)+2(c)+2(d)+2(e)+2(g)] is Rs. 5321 is 3. is Total amount of salary received from current employer\\r[1(d)-2(h)] is Rs. 234 is 4. is Less: Deductions under section 16 is (a) is Standard'),\n",
       " Document(page_content='Deductions under section 16 is (a) is Standard deduction under section 16(ia) is Rs. 346 is (b) is Entertainment allowance under section 16(ii) is Rs. 3453 is (c) is Tax on employment under section 16(iii) is Rs. 3631')]"
      ]
     },
     "execution_count": 71,
     "metadata": {},
     "output_type": "execute_result"
    }
   ],
   "source": [
    "docs"
   ]
  },
  {
   "cell_type": "code",
   "execution_count": 15,
   "metadata": {},
   "outputs": [],
   "source": [
    "from langchain_community.llms import Ollama\n",
    "llm = Ollama(model=\"gemma2:2b\")"
   ]
  },
  {
   "cell_type": "code",
   "execution_count": 72,
   "metadata": {},
   "outputs": [],
   "source": [
    "vectordb = FAISS.from_documents(docs, embeddings)"
   ]
  },
  {
   "cell_type": "code",
   "execution_count": 56,
   "metadata": {},
   "outputs": [],
   "source": [
    "prompt = PromptTemplate.from_template(\n",
    "\n",
    "    \"\"\"\n",
    "    Answer the following question based only on the provided context:\n",
    "    The context tells about the form 16 filled by the user and describes the amount he has entered in each category\n",
    "    \n",
    "    <context>\n",
    "    {context}\n",
    "    </context>\n",
    "    \n",
    "    question : {input}\n",
    "\n",
    "    \"\"\"\n",
    ")"
   ]
  },
  {
   "cell_type": "code",
   "execution_count": 73,
   "metadata": {},
   "outputs": [],
   "source": [
    "doc_chain = create_stuff_documents_chain(llm,prompt)"
   ]
  },
  {
   "cell_type": "code",
   "execution_count": 74,
   "metadata": {},
   "outputs": [],
   "source": [
    "retriever = vectordb.as_retriever()\n",
    "retrieve_chain = create_retrieval_chain(retriever,doc_chain)"
   ]
  },
  {
   "cell_type": "code",
   "execution_count": 38,
   "metadata": {},
   "outputs": [],
   "source": [
    "# query = \"provisions contained in section\"\n",
    "# res = vectordb.similarity_search(query)"
   ]
  },
  {
   "cell_type": "code",
   "execution_count": 85,
   "metadata": {},
   "outputs": [
    {
     "name": "stderr",
     "output_type": "stream",
     "text": [
      "Failed to batch ingest runs: LangSmithConnectionError('Connection error caused failure to POST https://api.smith.langchain.com/runs/batch  in LangSmith API. Please confirm your internet connection.. ConnectionError(MaxRetryError(\"HTTPSConnectionPool(host=\\'api.smith.langchain.com\\', port=443): Max retries exceeded with url: /runs/batch (Caused by NewConnectionError(\\'<urllib3.connection.HTTPSConnection object at 0x000001D30959A400>: Failed to establish a new connection: [Errno 11001] getaddrinfo failed\\'))\"))')\n"
     ]
    },
    {
     "name": "stderr",
     "output_type": "stream",
     "text": [
      "Failed to batch ingest runs: LangSmithConnectionError('Connection error caused failure to POST https://api.smith.langchain.com/runs/batch  in LangSmith API. Please confirm your internet connection.. ConnectionError(MaxRetryError(\"HTTPSConnectionPool(host=\\'api.smith.langchain.com\\', port=443): Max retries exceeded with url: /runs/batch (Caused by NewConnectionError(\\'<urllib3.connection.HTTPSConnection object at 0x000001D30952E100>: Failed to establish a new connection: [Errno 11001] getaddrinfo failed\\'))\"))')\n",
      "Failed to batch ingest runs: LangSmithConnectionError('Connection error caused failure to POST https://api.smith.langchain.com/runs/batch  in LangSmith API. Please confirm your internet connection.. ConnectionError(MaxRetryError(\"HTTPSConnectionPool(host=\\'api.smith.langchain.com\\', port=443): Max retries exceeded with url: /runs/batch (Caused by NewConnectionError(\\'<urllib3.connection.HTTPSConnection object at 0x000001D3095FFBE0>: Failed to establish a new connection: [Errno 11001] getaddrinfo failed\\'))\"))')\n"
     ]
    }
   ],
   "source": [
    "resp = retrieve_chain.invoke({\"input\":\"what is the Tax on employment under section 16 ?\"})"
   ]
  },
  {
   "cell_type": "code",
   "execution_count": 86,
   "metadata": {},
   "outputs": [
    {
     "data": {
      "text/plain": [
       "'The Tax on Employment under section 16 is Rs. 3631. \\n'"
      ]
     },
     "execution_count": 86,
     "metadata": {},
     "output_type": "execute_result"
    }
   ],
   "source": [
    "resp['answer']"
   ]
  },
  {
   "cell_type": "code",
   "execution_count": 11,
   "metadata": {},
   "outputs": [],
   "source": [
    "from langchain.chains.summarize import load_summarize_chain"
   ]
  },
  {
   "cell_type": "code",
   "execution_count": 12,
   "metadata": {},
   "outputs": [],
   "source": [
    "prompt_template = \"\"\"Write a concise summary of the following text delimited by triple backquotes.\n",
    "              Return your response in bullet points which covers the key points of the text.\n",
    "              ```{text}```\n",
    "              BULLET POINT SUMMARY:\n",
    "  \"\"\"\n",
    "\n",
    "prompt = PromptTemplate(template=prompt_template, input_variables=[\"text\"])"
   ]
  },
  {
   "cell_type": "code",
   "execution_count": 16,
   "metadata": {},
   "outputs": [],
   "source": [
    "stuff_chain = load_summarize_chain(llm, chain_type=\"stuff\", prompt=prompt)\n"
   ]
  },
  {
   "cell_type": "code",
   "execution_count": 42,
   "metadata": {},
   "outputs": [
    {
     "name": "stdout",
     "output_type": "stream",
     "text": [
      "Here's a summary of the provided text in bullet points covering the key points:\n",
      "\n",
      "**Income and Deductions:**\n",
      "\n",
      "* **Salary Details:**\n",
      "    * Gross Salary: Rs. 1000\n",
      "    * Perquisites: Rs. 5000\n",
      "    * Profits ( lieu of salary): Rs. 9000\n",
      "    * Total Received from other Employers: Rs. 6000\n",
      "* **Exemptions Under Section 10:**  \n",
      "    * Travel Concession/Assistance: Rs. 500\n",
      "    * Death-cum-Retirement Gratuity: Rs. 800 \n",
      "    * Commuted Value of Pension: Rs. 900\n",
      "    * Cash equivalent of Leave Salary: Rs. 20000\n",
      "    * House Rent Allowance: Rs. 5000\n",
      "    * Other Exemptions (Total): Rs. 3243\n",
      "* **Net Salary After Allowances:**  \n",
      "    * Total Salary After Deductions: Rs. 234\n",
      "* **Deductions Under Section 16:** \n",
      "    * Standard Deduction: Rs. 346\n",
      "    * Entertainment Allowance: Rs. 3453\n",
      "    * Tax on Employment: Rs. 3631 \n",
      "    * Total Deductions (all sections): Rs. 10006\n",
      "* **Other Income:**  \n",
      "    * House Property Income: Rs. 3289\n",
      "    * Other Sources: Rs. 42342\n",
      "    * Total Other Income: Rs. 4654\n",
      "* **Total Gross Income:** Rs. 987\n",
      "* **Deductions under Chapter VI-A (Tax Saving):**  \n",
      "   * Life Insurance, Provident Fund etc.: Rs. 2334\n",
      "   * Pension contributions: Rs. 5266\n",
      "   * Health Insurance: Rs. 8798\n",
      "   * Education Loan Interest: Rs. 6789\n",
      "   * Donations and Charitable institutions: Rs. 3464 \n",
      "   * Savings Account interest: Rs. 2356\n",
      "\n",
      "**Tax Calculations:**\n",
      "\n",
      "* Total Deductible Amount:  [Specific amounts are mentioned from the chapter VI-A]\n",
      "* Net Tax Payable: [Amount after deductions and exemptions, specific amounts are mentioned] \n",
      "\n",
      "\n",
      "**Verification & Declaration:**\n",
      "\n",
      "*  The text ends with a verification statement by the individual responsible for tax deduction. \n",
      "\n",
      "\n",
      "Let me know if you have any other questions or need further clarification! \n",
      "\n"
     ]
    }
   ],
   "source": [
    "try:\n",
    "    print(stuff_chain.run(documents))\n",
    "except Exception as e:\n",
    "    print(\n",
    "        \n",
    "        \"The code failed since it won't be able to run inference on such a huge context and throws this exception: \",\n",
    "        e,\n",
    "    )"
   ]
  },
  {
   "cell_type": "code",
   "execution_count": null,
   "metadata": {},
   "outputs": [],
   "source": []
  },
  {
   "cell_type": "code",
   "execution_count": 13,
   "metadata": {},
   "outputs": [],
   "source": [
    "map_prompt_template = \"\"\"\n",
    "                      Write a summary of this chunk of text that includes the main points and any important details.\n",
    "                      {text}\n",
    "                      \"\"\"\n",
    "\n",
    "map_prompt = PromptTemplate(template=map_prompt_template, input_variables=[\"text\"])\n",
    "\n",
    "combine_prompt_template = \"\"\"\n",
    "                      Write a concise summary of the following text delimited by triple backquotes.\n",
    "                      Return your response in bullet points which covers the key points of the text.\n",
    "                      ```{text}```\n",
    "                      BULLET POINT SUMMARY:\n",
    "                      \"\"\"\n",
    "\n",
    "combine_prompt = PromptTemplate(\n",
    "    template=combine_prompt_template, input_variables=[\"text\"]\n",
    ")"
   ]
  },
  {
   "cell_type": "code",
   "execution_count": 98,
   "metadata": {},
   "outputs": [],
   "source": [
    "map_reduce_chain = load_summarize_chain(\n",
    "    llm,\n",
    "    chain_type=\"map_reduce\",\n",
    "    map_prompt=map_prompt,\n",
    "    combine_prompt=combine_prompt,\n",
    "    return_intermediate_steps=True,\n",
    ")\n"
   ]
  },
  {
   "cell_type": "code",
   "execution_count": 105,
   "metadata": {},
   "outputs": [
    {
     "ename": "",
     "evalue": "",
     "output_type": "error",
     "traceback": [
      "\u001b[1;31mThe Kernel crashed while executing code in the current cell or a previous cell. \n",
      "\u001b[1;31mPlease review the code in the cell(s) to identify a possible cause of the failure. \n",
      "\u001b[1;31mClick <a href='https://aka.ms/vscodeJupyterKernelCrash'>here</a> for more info. \n",
      "\u001b[1;31mView Jupyter <a href='command:jupyter.viewOutput'>log</a> for further details."
     ]
    }
   ],
   "source": [
    "map_reduce_outputs = map_reduce_chain({\"input_documents\": documents})\n",
    "map_reduce_outputs"
   ]
  },
  {
   "cell_type": "code",
   "execution_count": null,
   "metadata": {},
   "outputs": [],
   "source": []
  },
  {
   "cell_type": "code",
   "execution_count": null,
   "metadata": {},
   "outputs": [],
   "source": []
  }
 ],
 "metadata": {
  "kernelspec": {
   "display_name": "Python 3 (ipykernel)",
   "language": "python",
   "name": "python3"
  },
  "language_info": {
   "codemirror_mode": {
    "name": "ipython",
    "version": 3
   },
   "file_extension": ".py",
   "mimetype": "text/x-python",
   "name": "python",
   "nbconvert_exporter": "python",
   "pygments_lexer": "ipython3",
   "version": "3.9.19"
  }
 },
 "nbformat": 4,
 "nbformat_minor": 4
}

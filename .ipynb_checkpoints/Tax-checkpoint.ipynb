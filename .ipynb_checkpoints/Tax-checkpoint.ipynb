{
 "cells": [
  {
   "cell_type": "code",
   "execution_count": 1,
   "metadata": {},
   "outputs": [],
   "source": [
    "from langchain.document_loaders.parsers.pdf import PDFPlumberParser\n",
    "from langchain.document_loaders import Blob\n",
    "from langchain.document_loaders import PyPDFLoader"
   ]
  },
  {
   "cell_type": "code",
   "execution_count": 46,
   "metadata": {},
   "outputs": [
    {
     "name": "stdout",
     "output_type": "stream",
     "text": [
      "page_content='\n",
      "' metadata={'source': 'sample.pdf', 'file_path': 'sample.pdf', 'page': 0, 'total_pages': 1, 'Producer': 'Adobe XD'}\n"
     ]
    }
   ],
   "source": [
    "from langchain.document_loaders import Blob\n",
    "from langchain.document_loaders.parsers.pdf import PDFPlumberParser\n",
    "\n",
    "# Create a Blob object for the PDF document\n",
    "blob = Blob.from_path(\"page 1.pdf\")\n",
    "\n",
    "# Create a PDFPlumberParser object\n",
    "parser = PDFPlumberParser()\n",
    "\n",
    "# Use the lazy_parse method to parse the PDF document\n",
    "\n",
    "docs = parser.lazy_parse(blob)\n",
    "for i in docs:\n",
    "    print(i)"
   ]
  },
  {
   "cell_type": "code",
   "execution_count": 5,
   "metadata": {},
   "outputs": [],
   "source": [
    "loader = PyPDFLoader('page 1.pdf')\n",
    "\n",
    "#split the document into chunks\n",
    "pages = loader.load_and_split()"
   ]
  },
  {
   "cell_type": "code",
   "execution_count": 6,
   "metadata": {},
   "outputs": [
    {
     "name": "stdout",
     "output_type": "stream",
     "text": [
      "Requirement already satisfied: tabula-py in c:\\users\\kushaagra mehta\\anaconda3\\envs\\torch_env\\lib\\site-packages (2.9.3)\n",
      "Requirement already satisfied: pandas>=0.25.3 in c:\\users\\kushaagra mehta\\anaconda3\\envs\\torch_env\\lib\\site-packages (from tabula-py) (1.5.3)\n",
      "Requirement already satisfied: numpy in c:\\users\\kushaagra mehta\\anaconda3\\envs\\torch_env\\lib\\site-packages (from tabula-py) (1.26.4)\n",
      "Requirement already satisfied: distro in c:\\users\\kushaagra mehta\\anaconda3\\envs\\torch_env\\lib\\site-packages (from tabula-py) (1.9.0)\n",
      "Requirement already satisfied: python-dateutil>=2.8.1 in c:\\users\\kushaagra mehta\\anaconda3\\envs\\torch_env\\lib\\site-packages (from pandas>=0.25.3->tabula-py) (2.9.0.post0)\n",
      "Requirement already satisfied: pytz>=2020.1 in c:\\users\\kushaagra mehta\\anaconda3\\envs\\torch_env\\lib\\site-packages (from pandas>=0.25.3->tabula-py) (2024.1)\n",
      "Requirement already satisfied: six>=1.5 in c:\\users\\kushaagra mehta\\anaconda3\\envs\\torch_env\\lib\\site-packages (from python-dateutil>=2.8.1->pandas>=0.25.3->tabula-py) (1.16.0)\n",
      "Collecting jpype\n",
      "  Using cached jpype-0.0.tar.gz (541 bytes)\n",
      "  Preparing metadata (setup.py): started\n",
      "  Preparing metadata (setup.py): finished with status 'error'\n"
     ]
    },
    {
     "name": "stderr",
     "output_type": "stream",
     "text": [
      "  error: subprocess-exited-with-error\n",
      "  \n",
      "  python setup.py egg_info did not run successfully.\n",
      "  exit code: 1\n",
      "  \n",
      "  [8 lines of output]\n",
      "  \n",
      "  =========================================\n",
      "  \n",
      "  Please install the `JPype` with ``pip install jpype1``\n",
      "  \n",
      "  =========================================\n",
      "  \n",
      "  \n",
      "  [end of output]\n",
      "  \n",
      "  note: This error originates from a subprocess, and is likely not a problem with pip.\n",
      "error: metadata-generation-failed\n",
      "\n",
      "Encountered error while generating package metadata.\n",
      "\n",
      "See above for output.\n",
      "\n",
      "note: This is an issue with the package mentioned above, not pip.\n",
      "hint: See above for details.\n"
     ]
    }
   ],
   "source": [
    "!pip install tabula-py\n",
    "!pip install jpype"
   ]
  },
  {
   "cell_type": "markdown",
   "metadata": {},
   "source": [
    "# ------------------ Tabula ----------------------------------"
   ]
  },
  {
   "cell_type": "markdown",
   "metadata": {},
   "source": [
    "# ------------------ Tabula ----------------------------------"
   ]
  },
  {
   "cell_type": "markdown",
   "metadata": {},
   "source": [
    "# ------------------ Tabula ----------------------------------"
   ]
  },
  {
   "cell_type": "code",
   "execution_count": 93,
   "metadata": {
    "scrolled": true
   },
   "outputs": [],
   "source": [
    "from tabula.io import read_pdf\n",
    "\n",
    "tab = read_pdf('page 1.pdf', pages='all')\n",
    "# for t in tab:\n",
    "#     print(t, \"\\n=========================\\n\")\n",
    "df = tab[0]"
   ]
  },
  {
   "cell_type": "code",
   "execution_count": 94,
   "metadata": {},
   "outputs": [
    {
     "data": {
      "text/plain": [
       "2"
      ]
     },
     "execution_count": 94,
     "metadata": {},
     "output_type": "execute_result"
    }
   ],
   "source": [
    "len(tab)"
   ]
  },
  {
   "cell_type": "code",
   "execution_count": 43,
   "metadata": {},
   "outputs": [
    {
     "data": {
      "text/plain": [
       "Index(['Details of Salary Paid and any other income and tax deducted',\n",
       "       'Unnamed: 0', 'Unnamed: 1', 'Unnamed: 2', 'Unnamed: 3'],\n",
       "      dtype='object')"
      ]
     },
     "execution_count": 43,
     "metadata": {},
     "output_type": "execute_result"
    }
   ],
   "source": [
    "df.columns"
   ]
  },
  {
   "cell_type": "code",
   "execution_count": 44,
   "metadata": {},
   "outputs": [],
   "source": [
    "# df.drop(columns=['Details of Salary Paid and any other income and tax deducted'], inplace=True)"
   ]
  },
  {
   "cell_type": "code",
   "execution_count": 53,
   "metadata": {},
   "outputs": [],
   "source": [
    "import numpy as np\n",
    "df = df.replace(np.nan, 0)\n"
   ]
  },
  {
   "cell_type": "code",
   "execution_count": 54,
   "metadata": {},
   "outputs": [
    {
     "data": {
      "text/html": [
       "<div>\n",
       "<style scoped>\n",
       "    .dataframe tbody tr th:only-of-type {\n",
       "        vertical-align: middle;\n",
       "    }\n",
       "\n",
       "    .dataframe tbody tr th {\n",
       "        vertical-align: top;\n",
       "    }\n",
       "\n",
       "    .dataframe thead th {\n",
       "        text-align: right;\n",
       "    }\n",
       "</style>\n",
       "<table border=\"1\" class=\"dataframe\">\n",
       "  <thead>\n",
       "    <tr style=\"text-align: right;\">\n",
       "      <th></th>\n",
       "      <th>Details of Salary Paid and any other income and tax deducted</th>\n",
       "      <th>Unnamed: 0</th>\n",
       "      <th>Unnamed: 1</th>\n",
       "      <th>Unnamed: 2</th>\n",
       "      <th>Unnamed: 3</th>\n",
       "    </tr>\n",
       "  </thead>\n",
       "  <tbody>\n",
       "    <tr>\n",
       "      <th>0</th>\n",
       "      <td>1.</td>\n",
       "      <td>Gross Salary</td>\n",
       "      <td>0</td>\n",
       "      <td>0</td>\n",
       "      <td>0</td>\n",
       "    </tr>\n",
       "    <tr>\n",
       "      <th>1</th>\n",
       "      <td>(a)</td>\n",
       "      <td>Salary as per provisions contained in section ...</td>\n",
       "      <td>0</td>\n",
       "      <td>Rs. 1000</td>\n",
       "      <td>0</td>\n",
       "    </tr>\n",
       "    <tr>\n",
       "      <th>2</th>\n",
       "      <td>(b)</td>\n",
       "      <td>Value of perquisites under section 17(2) (as p...</td>\n",
       "      <td>0</td>\n",
       "      <td>Rs. 5000</td>\n",
       "      <td>0</td>\n",
       "    </tr>\n",
       "    <tr>\n",
       "      <th>3</th>\n",
       "      <td>(c)</td>\n",
       "      <td>Profits in lieu of salary under section 17(3) ...</td>\n",
       "      <td>0</td>\n",
       "      <td>Rs. 9000</td>\n",
       "      <td>0</td>\n",
       "    </tr>\n",
       "    <tr>\n",
       "      <th>4</th>\n",
       "      <td>(d)</td>\n",
       "      <td>Total</td>\n",
       "      <td>0</td>\n",
       "      <td>0</td>\n",
       "      <td>Rs. 4000</td>\n",
       "    </tr>\n",
       "  </tbody>\n",
       "</table>\n",
       "</div>"
      ],
      "text/plain": [
       "  Details of Salary Paid and any other income and tax deducted  \\\n",
       "0                                                 1.             \n",
       "1                                                (a)             \n",
       "2                                                (b)             \n",
       "3                                                (c)             \n",
       "4                                                (d)             \n",
       "\n",
       "                                          Unnamed: 0 Unnamed: 1 Unnamed: 2  \\\n",
       "0                                       Gross Salary          0          0   \n",
       "1  Salary as per provisions contained in section ...          0   Rs. 1000   \n",
       "2  Value of perquisites under section 17(2) (as p...          0   Rs. 5000   \n",
       "3  Profits in lieu of salary under section 17(3) ...          0   Rs. 9000   \n",
       "4                                              Total          0          0   \n",
       "\n",
       "  Unnamed: 3  \n",
       "0          0  \n",
       "1          0  \n",
       "2          0  \n",
       "3          0  \n",
       "4   Rs. 4000  "
      ]
     },
     "execution_count": 54,
     "metadata": {},
     "output_type": "execute_result"
    }
   ],
   "source": [
    "df.head()"
   ]
  },
  {
   "cell_type": "code",
   "execution_count": 79,
   "metadata": {},
   "outputs": [
    {
     "data": {
      "text/html": [
       "<div>\n",
       "<style scoped>\n",
       "    .dataframe tbody tr th:only-of-type {\n",
       "        vertical-align: middle;\n",
       "    }\n",
       "\n",
       "    .dataframe tbody tr th {\n",
       "        vertical-align: top;\n",
       "    }\n",
       "\n",
       "    .dataframe thead th {\n",
       "        text-align: right;\n",
       "    }\n",
       "</style>\n",
       "<table border=\"1\" class=\"dataframe\">\n",
       "  <thead>\n",
       "    <tr style=\"text-align: right;\">\n",
       "      <th></th>\n",
       "      <th>Details of Salary Paid and any other income and tax deducted</th>\n",
       "      <th>Unnamed: 0</th>\n",
       "      <th>Unnamed: 1</th>\n",
       "      <th>Unnamed: 2</th>\n",
       "      <th>Unnamed: 3</th>\n",
       "    </tr>\n",
       "  </thead>\n",
       "  <tbody>\n",
       "    <tr>\n",
       "      <th>22</th>\n",
       "      <td>4.</td>\n",
       "      <td>Less: Deductions under section 16</td>\n",
       "      <td>0</td>\n",
       "      <td>0</td>\n",
       "      <td>0</td>\n",
       "    </tr>\n",
       "    <tr>\n",
       "      <th>23</th>\n",
       "      <td>(a)</td>\n",
       "      <td>Standard deduction under section 16(ia)</td>\n",
       "      <td>0</td>\n",
       "      <td>Rs. 346</td>\n",
       "      <td>0</td>\n",
       "    </tr>\n",
       "    <tr>\n",
       "      <th>24</th>\n",
       "      <td>(b)</td>\n",
       "      <td>Entertainment allowance under section 16(ii)</td>\n",
       "      <td>0</td>\n",
       "      <td>Rs. 3453</td>\n",
       "      <td>0</td>\n",
       "    </tr>\n",
       "    <tr>\n",
       "      <th>25</th>\n",
       "      <td>(c)</td>\n",
       "      <td>Tax on employment under section 16(iii)</td>\n",
       "      <td>0</td>\n",
       "      <td>Rs. 3631</td>\n",
       "      <td>0</td>\n",
       "    </tr>\n",
       "  </tbody>\n",
       "</table>\n",
       "</div>"
      ],
      "text/plain": [
       "   Details of Salary Paid and any other income and tax deducted  \\\n",
       "22                                                 4.             \n",
       "23                                                (a)             \n",
       "24                                                (b)             \n",
       "25                                                (c)             \n",
       "\n",
       "                                      Unnamed: 0 Unnamed: 1 Unnamed: 2  \\\n",
       "22             Less: Deductions under section 16          0          0   \n",
       "23       Standard deduction under section 16(ia)          0    Rs. 346   \n",
       "24  Entertainment allowance under section 16(ii)          0   Rs. 3453   \n",
       "25       Tax on employment under section 16(iii)          0   Rs. 3631   \n",
       "\n",
       "   Unnamed: 3  \n",
       "22          0  \n",
       "23          0  \n",
       "24          0  \n",
       "25          0  "
      ]
     },
     "execution_count": 79,
     "metadata": {},
     "output_type": "execute_result"
    }
   ],
   "source": [
    "df.iloc[22:30]"
   ]
  },
  {
   "cell_type": "code",
   "execution_count": 76,
   "metadata": {},
   "outputs": [],
   "source": [
    "# dropped_df = df.drop(columns=['Details of Salary Paid and any other income and tax deducted'])\n",
    "# dropped_df.head()"
   ]
  },
  {
   "cell_type": "code",
   "execution_count": 77,
   "metadata": {},
   "outputs": [],
   "source": [
    "# sentences\n",
    "sentences = []"
   ]
  },
  {
   "cell_type": "code",
   "execution_count": 78,
   "metadata": {},
   "outputs": [],
   "source": [
    "indices =[(0,6),(6,21), (21,22), (22,23), (), ()]\n",
    "# describe = set([1,2])"
   ]
  },
  {
   "cell_type": "code",
   "execution_count": 63,
   "metadata": {},
   "outputs": [],
   "source": [
    "def make_str(arr):\n",
    "    sentences.append(\" \".join(arr))\n",
    "def subset_making(start,stop):\n",
    "    subset_array =( df.iloc[start:stop].to_numpy()).flatten()\n",
    "    subset_array = [str(element) for element in subset_array if element != 0]\n",
    "    make_str(subset_array)\n",
    "\n",
    "\n",
    "\n",
    "\n",
    "\n",
    "    "
   ]
  },
  {
   "cell_type": "code",
   "execution_count": 74,
   "metadata": {},
   "outputs": [],
   "source": [
    "for j in range(len(indices)):\n",
    "    subset_making(indices[j][0],indices[j][1])"
   ]
  },
  {
   "cell_type": "code",
   "execution_count": 75,
   "metadata": {},
   "outputs": [
    {
     "data": {
      "text/plain": [
       "['1. Gross Salary (a) Salary as per provisions contained in section 17(1) Rs. 1000 (b) Value of perquisites under section 17(2) (as per Form\\rNo. 12BA, wherever applicable) Rs. 5000 (c) Profits in lieu of salary under section 17(3) (as per\\rForm No. 12BA, wherever applicable) Rs. 9000 (d) Total Rs. 4000 (e) Reported total amount of salary received from other\\remployer(s) Rs. 6000',\n",
       " '2. Less: Allowances to the extent exempt under section 10 (a) Travel concession or assistance under section 10(5) Rs. 500 (b) Death-cum-retirement gratuity under section 10(10) Rs. 800 (c) Commuted value of pension under section 10(10A) Rs. 900 (d) Cash equivalent of leave salary encashment under\\rsection 10(10AA) Rs. 20000 (e) House rent allowance under section 10(13A) Rs. 5000 (f) Amount of any other exemption under section 10 clause test1 Rs. 1234 Clause test2 Rs. 5678 Clause test 3 Rs. 234 clause test4 Rs. 978 clause tes5 Rs. 234 Another caluse Rs. 635 (g) Total amount of any other exemption under section 10 Rs. 3243 (h) Total amount of exemption claimed under section 10\\r[2(a)+2(b)+2(c)+2(d)+2(e)+2(g)] Rs. 5321',\n",
       " '3. Total amount of salary received from current employer\\r[1(d)-2(h)] Rs. 234',\n",
       " '4. Less: Deductions under section 16']"
      ]
     },
     "execution_count": 75,
     "metadata": {},
     "output_type": "execute_result"
    }
   ],
   "source": [
    "sentences"
   ]
  },
  {
   "cell_type": "code",
   "execution_count": 39,
   "metadata": {},
   "outputs": [],
   "source": [
    "result_parts = []\n",
    "\n",
    "# for i, element in enumerate(subset_array):\n",
    "#     result_parts.append(element)\n",
    "#     if (i + 1) % 2 == 0 and i + 1 < len(subset_array):\n",
    "#         result_parts.append(\"is\")\n",
    "result_string = ' '.join(result_parts)\n",
    "sentences.append(result_string)"
   ]
  },
  {
   "cell_type": "code",
   "execution_count": 40,
   "metadata": {},
   "outputs": [
    {
     "data": {
      "text/plain": [
       "['Gross Salary Salary as per provisions contained in section 17(1) is Rs. 1000 Value of perquisites under section 17(2) (as per Form\\rNo. 12BA, wherever applicable) is Rs. 5000 Profits in lieu of salary under section 17(3) (as per\\rForm No. 12BA, wherever applicable) is Rs. 9000 Total is Rs. 4000 Reported total amount of salary received from other\\remployer(s) is Rs. 6000']"
      ]
     },
     "execution_count": 40,
     "metadata": {},
     "output_type": "execute_result"
    }
   ],
   "source": [
    "sentences"
   ]
  },
  {
   "cell_type": "code",
   "execution_count": 11,
   "metadata": {},
   "outputs": [
    {
     "data": {
      "text/plain": [
       "Details of Salary Paid and any other income and tax deducted    object\n",
       "Unnamed: 0                                                      object\n",
       "Unnamed: 1                                                      object\n",
       "Unnamed: 2                                                      object\n",
       "Unnamed: 3                                                      object\n",
       "dtype: object"
      ]
     },
     "execution_count": 11,
     "metadata": {},
     "output_type": "execute_result"
    }
   ],
   "source": [
    "# df = df.columns.str.replace(' ', '')\n",
    "df.dtypes"
   ]
  },
  {
   "cell_type": "code",
   "execution_count": 48,
   "metadata": {},
   "outputs": [],
   "source": [
    "# from pandasai import SmartDataframe\n",
    "# from pandasai.llm.local_llm import LocalLLM\n",
    "# import pandas as pd\n",
    "# from pandasai.connectors import PostgreSQLConnector\n"
   ]
  },
  {
   "cell_type": "code",
   "execution_count": 49,
   "metadata": {},
   "outputs": [],
   "source": [
    "# ollama_llm = LocalLLM(api_base=\"http://localhost:11434\", model=\"gemma2:2b\")\n"
   ]
  },
  {
   "cell_type": "code",
   "execution_count": 50,
   "metadata": {},
   "outputs": [],
   "source": [
    "# smdf = SmartDataframe(df, config={\"llm\": ollama_llm})\n"
   ]
  },
  {
   "cell_type": "code",
   "execution_count": 28,
   "metadata": {},
   "outputs": [],
   "source": [
    "# response = smdf.chat('What is unnamed 2 of Profits in lieu of salary')\n"
   ]
  },
  {
   "cell_type": "markdown",
   "metadata": {},
   "source": [
    "# -----------------Trying from direct loading--------------------\n"
   ]
  },
  {
   "cell_type": "code",
   "execution_count": null,
   "metadata": {},
   "outputs": [],
   "source": [
    "from langchain.d"
   ]
  },
  {
   "cell_type": "code",
   "execution_count": 95,
   "metadata": {},
   "outputs": [],
   "source": [
    "from tabula.io import read_pdf\n",
    "\n",
    "tab = read_pdf('partb.pdf', pages='all')\n",
    "# for t in tab:\n",
    "#     print(t, \"\\n=========================\\n\")\n",
    "df = tab[2]"
   ]
  },
  {
   "cell_type": "code",
   "execution_count": 96,
   "metadata": {},
   "outputs": [
    {
     "data": {
      "text/plain": [
       "6"
      ]
     },
     "execution_count": 96,
     "metadata": {},
     "output_type": "execute_result"
    }
   ],
   "source": [
    "len(tab)"
   ]
  },
  {
   "cell_type": "code",
   "execution_count": 97,
   "metadata": {},
   "outputs": [],
   "source": [
    "text= []\n",
    "for df in tab:\n",
    "    df = df.replace(np.nan, 0)\n",
    "    df = (df.to_numpy()).flatten()\n",
    "    filtered_elements = [str(element) for element in df if element != 0]\n",
    "    result = ' '.join(filtered_elements)\n",
    "    text.append(result)"
   ]
  },
  {
   "cell_type": "code",
   "execution_count": 98,
   "metadata": {},
   "outputs": [
    {
     "data": {
      "text/plain": [
       "['1. Gross Salary (a) Salary as per provisions contained in section 17(1) Rs. ... (b) Value of perquisites under section 17(2) (as per Form Rs. ... No. 12BA, wherever applicable) (c) Profits in lieu of salary under section 17(3) (as per Rs. ... Form No. 12BA, wherever applicable) (d) Total Rs. ... (e) Reported total amount of salary received from other Rs. ... employer(s) 2. Less: Allowances to the extent exempt under section 10 (a) Travel concession or assistance under section 10(5) Rs. ... (b) Death-cum-retirement gratuity under section 10(10) Rs. ... (c) Commuted value of pension under section 10(10A) Rs. ... (d) Cash equivalent of leave salary encashment under Rs. ... section 10(10AA) (e) House rent allowance under section 10(13A) Rs. ... (f) Amount of any other exemption under section 10 clause ... Rs. ... clause ... Rs. ... clause ... Rs. ... clause ... Rs. ... clause ... Rs. ... ... Rs. ... (g) Total amount of any other exemption under section 10 Rs. ... (h) Total amount of exemption claimed under section 10 Rs. ... [2(a)+2(b)+2(c)+2(d)+2(e)+2(g)] 3. Total amount of salary received from current employer Rs. ... [1(d)-2(h)] 4. Less: Deductions under section 16 (a) Standard deduction under section 16(ia) Rs. ... (b) Entertainment allowance under section 16(ii) Rs. ... (c) Tax on employment under section 16(iii) Rs. ...',\n",
       " '[4(a)+4(b)+4(c)] 6. Income chargeable under the head \"Salaries\" Rs. ... [(3+1(e)-5] 7. Add: Any other income reported by the employee under as per section 192 (2B) (a) Income (or admissible loss) from house property Rs. ... reported by employee offered for TDS (b) Income under the head Other Sources offered for TDS Rs. ... 8. Total amount of other income reported by the employee Rs. ... [7(a)+7(b)] 9. Gross total income (6+8) Rs. ... 10. Deductions under Chapter VI-A',\n",
       " 'Amount e Amount (a) Deduction in respect of life insurance premia, Rs. ... Rs. ... contributions to provident fund etc. under section 80C (b) Deduction in respect of contribution to certain pension Rs. ... Rs. ... funds under section 80CCC (c) Deduction in respect of contribution by taxpayer to Rs. ... Rs. ... pension scheme under section 80CCD (1) (d) Total deduction under section 80C, 80CCC and Rs. ... Rs. ... 80CCD(1) (e) Deductions in respect of amount paid/deposited to Rs. ... Rs. ... notified pension scheme under section 80CCD (1B) (f) Deduction in respect of contribution by Employer to Rs. ... Rs. ... pension scheme under section 80CCD (2) (g) Deduction in respect of health insurance premia under Rs. ... Rs. ... section 80D (h) Deduction in respect of interest on loan taken for Rs. ... Rs. ... higher education under section 80E Gross Qualifyin Deductibl Amount g Amount e Amount (i) Total Deduction in respect of donations to certain Rs. ... Rs. ... Rs. ... funds, charitable institutions, etc. under section 80G (j) Deduction in respect of interest on deposits in savings Rs. ... Rs. ... Rs. ... account under section 80TTA',\n",
       " 'section ... Rs. ... Rs. ... Rs. ... section ... Rs. ... Rs. ... Rs. ... section ... Rs. ... Rs. ... Rs. ... section ... Rs. ... Rs. ... Rs. ... section ... Rs. ... Rs. ... Rs. ... section ... Rs. ... Rs. ... Rs. ... ... Rs. ... Rs. ... Rs. ... (l) Total of amount deductible under any other Rs. ... Rs. ... Rs. ... provision(s) of Chapter VI-A 11. Aggregate of deductible amount under Chapter VI-A Rs. ... [10(a)+10(b)+10(c)+10(d)+10(e)+10(f)+10(g)+ 10(h)+10(i) 10(j)+10(l)] 12. Total taxable income (9-11) Rs. ... 13. Tax on total income Rs. ... 14. Rebate under section 87A, if applicable Rs. ... 15. Surcharge, wherever applicable Rs. ... 16. Health and education cess Rs. ... 17. Tax payable (13+15+16-14) Rs. ... 18. Less: Relief under section 89 (attach details) Rs. ... 19. Net tax payable (17-18) Rs. ... Verification I, ..................................., son/daughter of ..............................................working in the capacity of ..................................... (designation) do hereby certify that the information given above is true, complete and correct and is based on the books of account, documents, TDS statements, and other available records. Place.............................. (Signature of person responsible for deduction of tax) Date.............................. Full Name : ...........................',\n",
       " 'jurisdiction as regards TDS statements of the assessee. 4.If an assessee is employed under one employer only during the year, certificate in Form No. 16 issued for the quarter ending on 31st March of the financial year shall contain the details of tax deducted and deposited for all the quarters of the financial year. 5.(i) If an assessee is employed under more than one employer during the year, each of the employers shall issue Part A of the certificate in Form No. 16 pertaining to the period for which such assessee was employed with each of the employers. (ii) Part B (Annexure) of the certificate in Form No.16 may be issued by each of the employers or the last employer at the option of the assessee. 6.In Part A, in items I and II, in the column for tax deposited in respect of deductee, furnish total amount of tax, surcharge and health and education cess. 7.Deductor shall duly fill details, where available, in item numbers 2(f) and 10(k) before furnishing of Part B (Annexure) to the employee.]',\n",
       " '']"
      ]
     },
     "execution_count": 98,
     "metadata": {},
     "output_type": "execute_result"
    }
   ],
   "source": [
    "text"
   ]
  },
  {
   "cell_type": "code",
   "execution_count": null,
   "metadata": {},
   "outputs": [],
   "source": [
    "documents = [Document(page_content=text) for text in text_list]"
   ]
  },
  {
   "cell_type": "code",
   "execution_count": null,
   "metadata": {},
   "outputs": [],
   "source": []
  }
 ],
 "metadata": {
  "kernelspec": {
   "display_name": "Python 3 (ipykernel)",
   "language": "python",
   "name": "python3"
  },
  "language_info": {
   "codemirror_mode": {
    "name": "ipython",
    "version": 3
   },
   "file_extension": ".py",
   "mimetype": "text/x-python",
   "name": "python",
   "nbconvert_exporter": "python",
   "pygments_lexer": "ipython3",
   "version": "3.9.19"
  }
 },
 "nbformat": 4,
 "nbformat_minor": 4
}
